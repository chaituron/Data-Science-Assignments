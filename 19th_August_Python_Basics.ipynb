{
 "cells": [
  {
   "cell_type": "markdown",
   "id": "d25a538c-1d78-43d0-a5c8-840cc0f25e82",
   "metadata": {},
   "source": [
    "TOPIC: Python Basics Variable"
   ]
  },
  {
   "cell_type": "markdown",
   "id": "f43c7d3b-5e66-4c45-986e-53b973b94ed3",
   "metadata": {},
   "source": [
    "1. Declare two variables, `x` and `y`, and assign them integer values.\n",
    "Swap the values of these variables without using any temporary\n",
    "variable."
   ]
  },
  {
   "cell_type": "code",
   "execution_count": 1,
   "id": "bd658402-fcac-4ce9-a78a-7eee6cef1cb6",
   "metadata": {},
   "outputs": [],
   "source": [
    "x = 14\n",
    "y = 15"
   ]
  },
  {
   "cell_type": "code",
   "execution_count": 3,
   "id": "6d6eda58-4651-49ae-9edc-110577a75bb0",
   "metadata": {},
   "outputs": [
    {
     "name": "stdout",
     "output_type": "stream",
     "text": [
      "x: 14 and y: 15\n"
     ]
    }
   ],
   "source": [
    "print(\"x:\",x,\"and y:\",y)"
   ]
  },
  {
   "cell_type": "code",
   "execution_count": 4,
   "id": "db0f062a-c119-4cf2-affc-74643154a031",
   "metadata": {},
   "outputs": [],
   "source": [
    "x,y = y,x"
   ]
  },
  {
   "cell_type": "code",
   "execution_count": 5,
   "id": "393ae185-36e1-4b72-ac93-d57588ce1bd9",
   "metadata": {},
   "outputs": [
    {
     "name": "stdout",
     "output_type": "stream",
     "text": [
      "x: 15 and y: 14\n"
     ]
    }
   ],
   "source": [
    "print(\"x:\",x,\"and y:\",y)"
   ]
  },
  {
   "cell_type": "markdown",
   "id": "5629a857-760a-4b44-a411-3c38cce1299f",
   "metadata": {},
   "source": [
    "2. Create a program that calculates the area of a rectangle. Take the\n",
    "length and width as inputs from the user and store them in variables.\n",
    "Calculate and display the area."
   ]
  },
  {
   "cell_type": "code",
   "execution_count": 6,
   "id": "bbf192bf-826f-4acf-a208-e3db5d51f315",
   "metadata": {},
   "outputs": [
    {
     "name": "stdin",
     "output_type": "stream",
     "text": [
      " 24\n"
     ]
    }
   ],
   "source": [
    "length = int(input())"
   ]
  },
  {
   "cell_type": "code",
   "execution_count": 7,
   "id": "71d42bde-a5b4-443b-b873-7d7530777b95",
   "metadata": {},
   "outputs": [
    {
     "name": "stdin",
     "output_type": "stream",
     "text": [
      " 12\n"
     ]
    }
   ],
   "source": [
    "width = int(input())"
   ]
  },
  {
   "cell_type": "code",
   "execution_count": 9,
   "id": "dba1737b-7fc9-420a-94a5-7fa6dd84fb57",
   "metadata": {},
   "outputs": [],
   "source": [
    "Area_of_triangle = (1/2)*(length*width)"
   ]
  },
  {
   "cell_type": "code",
   "execution_count": 10,
   "id": "0dfe849f-46d0-4406-b622-e483b7b95a47",
   "metadata": {},
   "outputs": [
    {
     "name": "stdout",
     "output_type": "stream",
     "text": [
      "Area_of_triangle: 144.0\n"
     ]
    }
   ],
   "source": [
    "print(\"Area_of_triangle:\",Area_of_triangle)"
   ]
  },
  {
   "cell_type": "markdown",
   "id": "0c375878-9df6-4e88-9895-28c16d601ac8",
   "metadata": {},
   "source": [
    "3. Write a Python program that converts temperature from Celsius to\n",
    "Fahrenheit. Take the temperature in Celsius as input, store it in a\n",
    "variable, convert it to Fahrenheit, and display the result."
   ]
  },
  {
   "cell_type": "code",
   "execution_count": 14,
   "id": "6a8f4e0c-d7b7-4816-a646-3309f9b4509c",
   "metadata": {},
   "outputs": [
    {
     "name": "stdin",
     "output_type": "stream",
     "text": [
      " 35\n"
     ]
    }
   ],
   "source": [
    "Celsius = int(input())"
   ]
  },
  {
   "cell_type": "code",
   "execution_count": 15,
   "id": "4dbe2b45-03de-4cc4-afef-fe7a95ec36a0",
   "metadata": {},
   "outputs": [],
   "source": [
    "Fahrenheit = (Celsius*(9/5)) + 32 "
   ]
  },
  {
   "cell_type": "code",
   "execution_count": 16,
   "id": "3eb41b0e-18e4-43fd-b87f-a38efa498e1f",
   "metadata": {},
   "outputs": [
    {
     "name": "stdout",
     "output_type": "stream",
     "text": [
      "Temperature in Celsius: 35\n",
      "Temperature in Fahrenheit: 95.0\n"
     ]
    }
   ],
   "source": [
    "print(\"Temperature in Celsius:\",Celsius)\n",
    "print(\"Temperature in Fahrenheit:\",Fahrenheit)\n"
   ]
  },
  {
   "cell_type": "code",
   "execution_count": null,
   "id": "7425afe7-987b-4c65-aff1-efd7e8128492",
   "metadata": {},
   "outputs": [],
   "source": []
  },
  {
   "cell_type": "markdown",
   "id": "db5d8d3f-dcdc-43ea-967f-244815b3a156",
   "metadata": {},
   "source": [
    "\n",
    "TOPIC: String Based Questions\n"
   ]
  },
  {
   "cell_type": "markdown",
   "id": "91073479-e1ab-408e-bc40-19be9ab0de9f",
   "metadata": {},
   "source": [
    "1. Write a Python program that takes a string as input and prints the\n",
    "length of the string."
   ]
  },
  {
   "cell_type": "code",
   "execution_count": 17,
   "id": "8c2067cf-c530-4208-a010-0c6126cf8a8d",
   "metadata": {},
   "outputs": [
    {
     "name": "stdin",
     "output_type": "stream",
     "text": [
      " chaitanya\n"
     ]
    }
   ],
   "source": [
    "name = input()"
   ]
  },
  {
   "cell_type": "code",
   "execution_count": 18,
   "id": "2e01cd3e-60e2-4d6d-8019-07fc80d4dd59",
   "metadata": {},
   "outputs": [
    {
     "name": "stdout",
     "output_type": "stream",
     "text": [
      "Lenght of name: 9\n"
     ]
    }
   ],
   "source": [
    "print(\"Lenght of name:\",len(name))"
   ]
  },
  {
   "cell_type": "markdown",
   "id": "400135cb-7e6d-450e-9dd3-62abe311a686",
   "metadata": {},
   "source": [
    "2. Create a program that takes a sentence from the user and counts the\n",
    "number of vowels (a, e, i, o, u) in the string."
   ]
  },
  {
   "cell_type": "code",
   "execution_count": 22,
   "id": "099fe6ac-dffe-4e8b-9db6-8950753d2a64",
   "metadata": {},
   "outputs": [
    {
     "data": {
      "text/plain": [
       "'machine learning'"
      ]
     },
     "execution_count": 22,
     "metadata": {},
     "output_type": "execute_result"
    }
   ],
   "source": [
    "data = \"Machine Learning\"\n",
    "data = data.lower()\n",
    "data"
   ]
  },
  {
   "cell_type": "code",
   "execution_count": 23,
   "id": "8dce382c-8074-4a34-9553-76bda5f0bcc9",
   "metadata": {},
   "outputs": [
    {
     "data": {
      "text/plain": [
       "6"
      ]
     },
     "execution_count": 23,
     "metadata": {},
     "output_type": "execute_result"
    }
   ],
   "source": [
    "No_of_vowels = data.count('a') + data.count('e') + data.count('i') + data.count('o') + data.count('u')\n",
    "No_of_vowels"
   ]
  },
  {
   "cell_type": "markdown",
   "id": "868e66d5-bfcc-40c1-a33e-6a7e15c8941b",
   "metadata": {},
   "source": [
    "3. Given a string, reverse the order of characters using string slicing and\n",
    "print the reversed string."
   ]
  },
  {
   "cell_type": "code",
   "execution_count": 24,
   "id": "1b31c53f-95e5-47ef-b0cf-1ba607ad741f",
   "metadata": {},
   "outputs": [
    {
     "name": "stdout",
     "output_type": "stream",
     "text": [
      "Reversed string:  ecneicS ataD\n"
     ]
    }
   ],
   "source": [
    "course = \"Data Science\"\n",
    "course = course[::-1]\n",
    "print(\"Reversed string: \",course)"
   ]
  },
  {
   "cell_type": "markdown",
   "id": "76bacabc-a537-4bfa-8e85-0a0a11e5ac44",
   "metadata": {},
   "source": [
    "4. Write a program that takes a string as input and checks if it is a\n",
    "palindrome (reads the same forwards and backwards)."
   ]
  },
  {
   "cell_type": "code",
   "execution_count": 26,
   "id": "73da5f85-c0b5-4bf8-9409-0979412b9345",
   "metadata": {},
   "outputs": [
    {
     "name": "stdin",
     "output_type": "stream",
     "text": [
      " radar\n"
     ]
    }
   ],
   "source": [
    "palindrome = input()"
   ]
  },
  {
   "cell_type": "code",
   "execution_count": 32,
   "id": "1fe01491-800d-4c10-b359-650affca3df8",
   "metadata": {},
   "outputs": [
    {
     "name": "stdout",
     "output_type": "stream",
     "text": [
      "radar is a palindrome\n"
     ]
    }
   ],
   "source": [
    "if(palindrome == palindrome[::-1]):\n",
    "    print(palindrome,\"is a palindrome\")\n",
    "else:\n",
    "    print(palindrome,\"is not a palindrome\")"
   ]
  },
  {
   "cell_type": "markdown",
   "id": "df2b15d4-656d-4d80-81d2-cae515a41011",
   "metadata": {},
   "source": [
    "5. Create a program that takes a string as input and removes all the\n",
    "spaces from it. Print the modified string without spaces."
   ]
  },
  {
   "cell_type": "code",
   "execution_count": 33,
   "id": "499bfed1-2439-4fee-9fb6-377c487d00c2",
   "metadata": {},
   "outputs": [
    {
     "name": "stdin",
     "output_type": "stream",
     "text": [
      "     Artificial Intelligence   \n"
     ]
    }
   ],
   "source": [
    "white_check = input()"
   ]
  },
  {
   "cell_type": "code",
   "execution_count": 34,
   "id": "27c1663b-17f9-4dfb-abe1-658b7918c828",
   "metadata": {},
   "outputs": [
    {
     "data": {
      "text/plain": [
       "'Artificial Intelligence'"
      ]
     },
     "execution_count": 34,
     "metadata": {},
     "output_type": "execute_result"
    }
   ],
   "source": [
    "white_check.strip()"
   ]
  }
 ],
 "metadata": {
  "kernelspec": {
   "display_name": "Python 3 (ipykernel)",
   "language": "python",
   "name": "python3"
  },
  "language_info": {
   "codemirror_mode": {
    "name": "ipython",
    "version": 3
   },
   "file_extension": ".py",
   "mimetype": "text/x-python",
   "name": "python",
   "nbconvert_exporter": "python",
   "pygments_lexer": "ipython3",
   "version": "3.10.8"
  }
 },
 "nbformat": 4,
 "nbformat_minor": 5
}
