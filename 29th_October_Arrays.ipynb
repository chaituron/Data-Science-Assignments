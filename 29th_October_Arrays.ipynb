{
 "cells": [
  {
   "cell_type": "raw",
   "id": "55773692-94c3-4943-9915-4e5ab511d771",
   "metadata": {},
   "source": [
    "1. Given an array, check if it contains any duplicates or not.\n",
    "arr = [1, 2, 4, 2, 5, 9]\n",
    "Output = True"
   ]
  },
  {
   "cell_type": "code",
   "execution_count": 6,
   "id": "714b2716-ff93-4a01-9ebe-182061801773",
   "metadata": {},
   "outputs": [
    {
     "data": {
      "text/plain": [
       "True"
      ]
     },
     "execution_count": 6,
     "metadata": {},
     "output_type": "execute_result"
    }
   ],
   "source": [
    "\n",
    "def checkDuplicates(arr):\n",
    "    for i in range(len(arr)):\n",
    "        for j in range(i + 1, len(arr)):\n",
    "            if arr[i] == arr[j]:\n",
    "                return True\n",
    "    return False\n",
    "\n",
    "arr = [1,2,4,2,5,9]\n",
    "checkDuplicates(arr)\n",
    "\n"
   ]
  },
  {
   "cell_type": "raw",
   "id": "ddc61de9-a8c8-4014-88d7-5a9f6d216b5b",
   "metadata": {},
   "source": [
    "2. Given an array and an integer k, rotate the array to the right by k steps.\n",
    "arr = [1, 2, 3, 4, 5, 6,7] k = 3\n",
    "Output = [5, 6, 7, 1, 2, 3, 4]"
   ]
  },
  {
   "cell_type": "code",
   "execution_count": 8,
   "id": "ebd88520-d130-4712-a518-c9758c689364",
   "metadata": {},
   "outputs": [
    {
     "data": {
      "text/plain": [
       "[5, 6, 7, 1, 2, 3, 4]"
      ]
     },
     "execution_count": 8,
     "metadata": {},
     "output_type": "execute_result"
    }
   ],
   "source": [
    "def rotateArray(arr,k):\n",
    "    for i in range(k):\n",
    "        temp = arr.pop(-1)\n",
    "        arr.insert(0,temp)\n",
    "    return arr\n",
    "\n",
    "arr = [1, 2, 3, 4, 5, 6, 7]\n",
    "k = 3\n",
    "rotateArray(arr,k)"
   ]
  },
  {
   "cell_type": "raw",
   "id": "74ba0d28-15a2-4dbe-be03-c663eef1c0f1",
   "metadata": {},
   "source": [
    "3. Reverse the given array in-place, means without using any extra data structure.\n",
    "arr = [2, 4, 5, 7, 9, 12]\n",
    "Output = [12, 9, 7, 5, 4, 2]"
   ]
  },
  {
   "cell_type": "code",
   "execution_count": 9,
   "id": "b65b985b-ed61-45da-adab-34bc15d0adb1",
   "metadata": {},
   "outputs": [
    {
     "data": {
      "text/plain": [
       "[12, 9, 7, 5, 4, 2]"
      ]
     },
     "execution_count": 9,
     "metadata": {},
     "output_type": "execute_result"
    }
   ],
   "source": [
    "\n",
    "def reverseArray(arr):\n",
    "    for i in range(len(arr)):\n",
    "        temp = arr.pop(-1)\n",
    "        arr.insert(i,temp)\n",
    "    return arr\n",
    "\n",
    "arr = [2, 4, 5, 7, 9, 12]\n",
    "reverseArray(arr)"
   ]
  },
  {
   "cell_type": "raw",
   "id": "574eb848-efdb-42e7-8c7a-ab7eaf0110d5",
   "metadata": {},
   "source": [
    "4. Given an array of integers, find the maximum element in an array\n",
    "arr = [10, 5, 20, 8, 15]\n",
    "Output = 20"
   ]
  },
  {
   "cell_type": "code",
   "execution_count": 10,
   "id": "434137d9-6ea6-42d6-a1a0-eceb9e503a08",
   "metadata": {},
   "outputs": [
    {
     "data": {
      "text/plain": [
       "20"
      ]
     },
     "execution_count": 10,
     "metadata": {},
     "output_type": "execute_result"
    }
   ],
   "source": [
    "def maxElement(arr):\n",
    "    max_num = arr[0]\n",
    "    for i in range(1,len(arr)):\n",
    "        if arr[i] > max_num:\n",
    "            max_num = arr[i]\n",
    "            \n",
    "    return max_num\n",
    "        \n",
    "\n",
    "\n",
    "arr = [10, 5, 20, 8, 15]\n",
    "maxElement(arr)"
   ]
  },
  {
   "cell_type": "raw",
   "id": "7dd8256c-45c1-4dc0-bbb8-b009218f9d79",
   "metadata": {},
   "source": [
    "5. Given a sorted array, remove the duplicate element without using any extra data structure.\n",
    "arr = [1, 1, 2, 2, 2, 3, 3, 4, 4, 4, 5, 5]\n",
    "Output = [1, 2, 3, 4, 5]"
   ]
  },
  {
   "cell_type": "code",
   "execution_count": 18,
   "id": "408ff7df-a4e3-4476-b431-ca45b4b7d3a1",
   "metadata": {},
   "outputs": [
    {
     "data": {
      "text/plain": [
       "{1, 2, 3, 4, 5}"
      ]
     },
     "execution_count": 18,
     "metadata": {},
     "output_type": "execute_result"
    }
   ],
   "source": [
    "\n",
    "def removeDuplicates(arr):\n",
    "    arr = set(arr)\n",
    "    return arr\n",
    "\n",
    "arr = [1, 1, 2, 2, 2, 3, 3, 4, 4, 4, 5, 5]\n",
    "removeDuplicates(arr)"
   ]
  }
 ],
 "metadata": {
  "kernelspec": {
   "display_name": "Python 3 (ipykernel)",
   "language": "python",
   "name": "python3"
  },
  "language_info": {
   "codemirror_mode": {
    "name": "ipython",
    "version": 3
   },
   "file_extension": ".py",
   "mimetype": "text/x-python",
   "name": "python",
   "nbconvert_exporter": "python",
   "pygments_lexer": "ipython3",
   "version": "3.10.8"
  }
 },
 "nbformat": 4,
 "nbformat_minor": 5
}
